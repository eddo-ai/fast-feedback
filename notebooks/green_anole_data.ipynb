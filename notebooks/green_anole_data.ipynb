{
 "cells": [
  {
   "cell_type": "markdown",
   "metadata": {},
   "source": [
    "## Load Student Responses"
   ]
  },
  {
   "cell_type": "code",
   "execution_count": 1,
   "metadata": {},
   "outputs": [
    {
     "name": "stdout",
     "output_type": "stream",
     "text": [
      "Shape of the DataFrame: (3, 7)\n",
      "\n",
      "First few rows of the DataFrame:\n",
      "             Timestamp                     Email Address  \\\n",
      "0  2025-05-02 07:54:27  rommelma2029@wauwatosa.k12.wi.us   \n",
      "1  2025-05-02 08:29:45   greerlo2029@wauwatosa.k12.wi.us   \n",
      "2  2025-05-02 12:09:56  riordasa2029@wauwatosa.k12.wi.us   \n",
      "\n",
      "                   Name  Teacher Name    Hour  \\\n",
      "0  Matthew Rommelfanger  Mr. Kitzerow  Hour 3   \n",
      "1          London greer  Mr. Kitzerow  Hour 3   \n",
      "2          Sam Riordan    Mr. Summers  Hour 6   \n",
      "\n",
      "  1. What do you notice about the behavior and body structures of the green lizards who live on islands with brown lizards versus the green lizards who live on islands with no brown lizards?  \\\n",
      "0  \\nI notice a change in average perch height in...                                                                                                                                             \n",
      "1  while the lizards who are on an island without...                                                                                                                                             \n",
      "2  The islands with brown lizards, had higher fro...                                                                                                                                             \n",
      "\n",
      "  2. Construct an explanation: How does natural selection explain the changes in the green lizard population over time?\\n- Take out your Copy of Our General  Model\\n- Use the key parts of the General Model to explain the cause and effect of the changes in the green lizard population over time.\\nIn your explanation make sure to include the following:\\n  - the key parts of the model\\n  - cause and effect to describe how the population changed over time\\n - the data about the green and brown lizard populations that support your explanation  \n",
      "0  Natural selection explains the changes in gree...                                                                                                                                                                                                                                                                                                                                                                                                                                                                                                            \n",
      "1  The green lizards who are on an island with th...                                                                                                                                                                                                                                                                                                                                                                                                                                                                                                            \n",
      "2  Claim: The lizards are changing through natura...                                                                                                                                                                                                                                                                                                                                                                                                                                                                                                            \n"
     ]
    }
   ],
   "source": [
    "# Load to dataframe: data/green_anole/enriched_data_20250501_215017.csv\n",
    "import pandas as pd\n",
    "\n",
    "# Load the CSV file into a pandas DataFrame\n",
    "df = pd.read_csv('/Users/aw/Developer/wauwatosa/data/green_anole/Wauwatosa Grade 8 Assessment_ Green Anole Lizard (Responses) - Form Responses 20250506 filtered.csv')\n",
    "\n",
    "# Display basic information about the DataFrame\n",
    "print(f\"Shape of the DataFrame: {df.shape}\")\n",
    "print(\"\\nFirst few rows of the DataFrame:\")\n",
    "print(df.head())\n"
   ]
  },
  {
   "cell_type": "markdown",
   "metadata": {},
   "source": [
    "## Merge with AI Feedback 'enriched_data_20250501_215017.csv\"\n",
    "\n"
   ]
  },
  {
   "cell_type": "code",
   "execution_count": 6,
   "metadata": {},
   "outputs": [
    {
     "name": "stdout",
     "output_type": "stream",
     "text": [
      "Feedback DataFrame shape: (3, 13)\n",
      "\n",
      "Feedback DataFrame columns:\n",
      "Index(['Email Address', 'teacher_notes', 'teacher_score', 'finalized',\n",
      "       'last_modified', 'ai_annotated_response', 'ai_score_SEP',\n",
      "       'ai_score_DCI', 'ai_score_CCC', 'ai_score_Communication',\n",
      "       'ai_score_Overall', 'ai_feedback_strengths', 'ai_feedback_suggestions'],\n",
      "      dtype='object')\n",
      "\n",
      "Merged DataFrame shape: (3, 19)\n",
      "\n",
      "Merged DataFrame columns:\n",
      "Index(['Timestamp', 'Email Address', 'Name', 'Teacher Name', 'Hour',\n",
      "       '1. What do you notice about the behavior and body structures of the green lizards who live on islands with brown lizards versus the green lizards who live on islands with no brown lizards?',\n",
      "       '2. Construct an explanation: How does natural selection explain the changes in the green lizard population over time?\\n- Take out your Copy of Our General  Model\\n- Use the key parts of the General Model to explain the cause and effect of the changes in the green lizard population over time.\\nIn your explanation make sure to include the following:\\n  - the key parts of the model\\n  - cause and effect to describe how the population changed over time\\n - the data about the green and brown lizard populations that support your explanation',\n",
      "       'teacher_notes', 'teacher_score', 'finalized', 'last_modified',\n",
      "       'ai_annotated_response', 'ai_score_SEP', 'ai_score_DCI', 'ai_score_CCC',\n",
      "       'ai_score_Communication', 'ai_score_Overall', 'ai_feedback_strengths',\n",
      "       'ai_feedback_suggestions'],\n",
      "      dtype='object')\n"
     ]
    }
   ],
   "source": [
    "# Load and merge feedback data\n",
    "feedback_df = pd.read_csv('/Users/aw/Developer/wauwatosa/data/green_anole/enriched_may_6.csv')\n",
    "\n",
    "# Display information about the feedback DataFrame\n",
    "print(\"Feedback DataFrame shape:\", feedback_df.shape)\n",
    "print(\"\\nFeedback DataFrame columns:\")\n",
    "print(feedback_df.columns)\n",
    "\n",
    "feedback_df['Email Address'] = feedback_df['Email Address'].astype(str)\n",
    "# Merge the dataframes on Email Address\n",
    "merged_df = pd.merge(df, feedback_df, on='Email Address', how='left')\n",
    "\n",
    "# Display information about the merged DataFrame\n",
    "print(\"\\nMerged DataFrame shape:\", merged_df.shape)\n",
    "print(\"\\nMerged DataFrame columns:\")\n",
    "print(merged_df.columns)"
   ]
  },
  {
   "cell_type": "markdown",
   "metadata": {},
   "source": [
    "## Save to new file"
   ]
  },
  {
   "cell_type": "code",
   "execution_count": 7,
   "metadata": {},
   "outputs": [],
   "source": [
    "merged_df.to_csv('data/green_anole/green_anole_data_may_6.csv', index=False)"
   ]
  },
  {
   "cell_type": "markdown",
   "metadata": {},
   "source": [
    "## Generate a sample PDF for one student"
   ]
  },
  {
   "cell_type": "code",
   "execution_count": null,
   "metadata": {},
   "outputs": [],
   "source": []
  },
  {
   "cell_type": "markdown",
   "metadata": {},
   "source": [
    "## Generate multipage files for each hour, teacher."
   ]
  },
  {
   "cell_type": "markdown",
   "metadata": {},
   "source": []
  }
 ],
 "metadata": {
  "kernelspec": {
   "display_name": ".venv",
   "language": "python",
   "name": "python3"
  },
  "language_info": {
   "codemirror_mode": {
    "name": "ipython",
    "version": 3
   },
   "file_extension": ".py",
   "mimetype": "text/x-python",
   "name": "python",
   "nbconvert_exporter": "python",
   "pygments_lexer": "ipython3",
   "version": "3.12.6"
  }
 },
 "nbformat": 4,
 "nbformat_minor": 2
}
